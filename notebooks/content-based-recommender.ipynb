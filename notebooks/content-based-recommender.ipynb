{
 "cells": [
  {
   "cell_type": "markdown",
   "source": [
    "# Content based recommender: product space shared.\n",
    "\n",
    "### Introduction\n",
    "This recommender measure the relationship between products what shared\n",
    "a space. A space can be the Kitchen, a bedroom, the beach, etc.\n",
    "The idea is simple, if a customer buy a Smart Tv maybe also he/she is interested\n",
    "in a Sofa or Rack because this product shared the same space, the living room.\n",
    "\n",
    "A product can belong to several spaces, for example the Washing Machine can be in the\n",
    "Kitchen or in the bathroom.\n",
    "\n",
    "The measure used is *Cocine Similarity*.\n",
    "\n"
   ],
   "metadata": {
    "collapsed": false
   }
  },
  {
   "cell_type": "markdown",
   "metadata": {},
   "source": [
    "import heapq\n",
    "import pandas as pd\n",
    "import random\n",
    "from sklearn.metrics.pairwise import cosine_similarity\n",
    "from scipy import sparse"
   ]
  },
  {
   "cell_type": "code",
   "execution_count": 10,
   "metadata": {},
   "outputs": [],
   "source": [
    "import heapq\n",
    "import pandas as pd\n",
    "import random\n",
    "from sklearn.metrics.pairwise import cosine_similarity\n",
    "from scipy import sparse"
   ]
  },
  {
   "cell_type": "code",
   "execution_count": 11,
   "metadata": {
    "pycharm": {
     "name": "#%%\n"
    }
   },
   "outputs": [],
   "source": [
    "# Load all categories with places associated.\n",
    "df = pd.read_csv('../data/all_categories_with_places.csv', sep=';')"
   ]
  },
  {
   "cell_type": "code",
   "execution_count": 12,
   "metadata": {
    "pycharm": {
     "name": "#%%\n"
    }
   },
   "outputs": [],
   "source": [
    "# Copy df in zac only keeping category_id, place_1, place_2, place_3\n",
    "# Zones and categories (zac)\n",
    "zac = df[['category_id', 'place_1', 'place_2', 'place_3']]"
   ]
  },
  {
   "cell_type": "code",
   "execution_count": 13,
   "metadata": {
    "pycharm": {
     "name": "#%%\n"
    }
   },
   "outputs": [],
   "source": [
    "# Load the association between all products and categories.\n",
    "# Products and categories (pac)\n",
    "pac = pd.read_csv('../data/products_and_categories.csv', sep=';')"
   ]
  },
  {
   "cell_type": "code",
   "execution_count": 14,
   "metadata": {
    "pycharm": {
     "name": "#%%\n"
    }
   },
   "outputs": [],
   "source": [
    "# List all type of places.\n",
    "places = ['Office', 'Living Room', 'Dinning Room','Kitchen', 'Bedroom', 'Bathroom',\n",
    "              'Yard', 'Street','Beach','Camping', 'Playroom']\n",
    "\n",
    "# Merge pac and zac to make paz, a dataframe with product and zones association.\n",
    "# Products and zones (paz)\n",
    "paz = pac.merge(zac, how='inner', left_on='category_id', right_on='category_id')\n",
    "paz = paz[['product_id', 'place_1', 'place_2', 'place_3']]\n",
    "paz['place_1'] = pd.Categorical(paz['place_1'], categories=places)\n",
    "paz['place_2'] = pd.Categorical(paz['place_2'], categories=places)\n",
    "paz['place_3'] = pd.Categorical(paz['place_3'], categories=places)\n",
    "\n",
    "# Generate onehot vectors to measure cosine similarity between themselves.\n",
    "paz = pd.get_dummies(paz)\n",
    "for site in places:\n",
    "    paz[site] = paz[['place_1_{}'.format(site), 'place_2_{}'.format(site), 'place_3_{}'.format(site)]].max(axis=1)\n",
    "paz = paz.groupby('product_id')[places].max()\n",
    "paz = paz.reset_index()\n",
    "matrix = paz[places]"
   ]
  },
  {
   "cell_type": "code",
   "execution_count": 15,
   "metadata": {
    "pycharm": {
     "name": "#%%\n"
    }
   },
   "outputs": [],
   "source": [
    "# Use sklearn to compute cosine similarity\n",
    "A = matrix.values\n",
    "A_sparse = sparse.csr_matrix(A)\n",
    "similarities_matrix = cosine_similarity(A_sparse)\n",
    "#print('pairwise sparse output:\\n {}\\n'.format(similarities))\n"
   ]
  },
  {
   "cell_type": "code",
   "execution_count": 16,
   "metadata": {
    "pycharm": {
     "name": "#%%\n"
    }
   },
   "outputs": [],
   "source": [
    "# Make two dict to map products and index\n",
    "index_to_product = dict(paz['product_id'])\n",
    "product_to_index = dict(zip(paz['product_id'].values, paz.index))"
   ]
  },
  {
   "cell_type": "code",
   "execution_count": 17,
   "metadata": {
    "pycharm": {
     "name": "#%%\n"
    }
   },
   "outputs": [
    {
     "name": "stdout",
     "output_type": "stream",
     "text": [
      "Getting 20 most similar products for 23148\n",
      "[7077, 7074, 6810, 4145, 3967, 5082, 3989, 3970, 7100, 7078, 3969, 7076, 3930, 3968, 5081, 7075, 3931, 7079, 5083, 5077]\n",
      "..done!\n"
     ]
    }
   ],
   "source": [
    "# Compute scores for query product\n",
    "query_id = 23148\n",
    "product_scores = list(enumerate(similarities_matrix[product_to_index[query_id]]))"
   ]
  },
  {
   "cell_type": "code",
   "execution_count": 23,
   "metadata": {
    "pycharm": {
     "name": "#%%\n"
    }
   },
   "outputs": [
    {
     "name": "stdout",
     "output_type": "stream",
     "text": [
      "Getting 20 most similar products for 23148\n",
      "[6810, 5077, 3931, 5081, 7077, 7078, 3969, 3989, 7100, 7079, 7076, 3968, 3967, 3970, 5082, 7074, 3930, 4145, 5083, 7075]\n",
      "..done!\n"
     ]
    }
   ],
   "source": [
    "# Get the largest twenty 20 scores, shuffle and return.\n",
    "n = 20\n",
    "print(\"Getting {} most similar products for {}\".format(n, query_id))\n",
    "top_n_index = heapq.nlargest(n, product_scores, key=lambda x: x[1])\n",
    "top_n_index = random.sample(top_n_index, k=len(top_n_index))\n",
    "top = []\n",
    "for index, score in top_n_index:\n",
    "    top.append(index_to_product[index])\n",
    "print(top)\n",
    "print('..done!')"
   ]
  }
 ],
 "metadata": {
  "kernelspec": {
   "display_name": "Python 3",
   "language": "python",
   "name": "python3"
  },
  "language_info": {
   "codemirror_mode": {
    "name": "ipython",
    "version": 3
   },
   "file_extension": ".py",
   "mimetype": "text/x-python",
   "name": "python",
   "nbconvert_exporter": "python",
   "pygments_lexer": "ipython3",
   "version": "3.8.5"
  },
  "pycharm": {
   "stem_cell": {
    "cell_type": "raw",
    "source": [
     "##\n"
    ],
    "metadata": {
     "collapsed": false
    }
   }
  }
 },
 "nbformat": 4,
 "nbformat_minor": 1
}